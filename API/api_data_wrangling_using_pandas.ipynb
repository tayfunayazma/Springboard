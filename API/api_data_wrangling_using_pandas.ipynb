{
 "cells": [
  {
   "cell_type": "code",
   "execution_count": 9,
   "metadata": {},
   "outputs": [],
   "source": [
    "import requests\n",
    "import pandas as pd"
   ]
  },
  {
   "cell_type": "code",
   "execution_count": 6,
   "metadata": {},
   "outputs": [],
   "source": [
    "API_KEY = ***"
   ]
  },
  {
   "cell_type": "code",
   "execution_count": 21,
   "metadata": {},
   "outputs": [],
   "source": [
    "r = requests.get('https://www.quandl.com/api/v3/datasets/FSE/AFX_X.json?start_date=2017-01-01&end_date=2017-12-31&api_key='+API_KEY)\n",
    "result = r.json()"
   ]
  },
  {
   "cell_type": "code",
   "execution_count": 88,
   "metadata": {},
   "outputs": [
    {
     "data": {
      "text/html": [
       "<div>\n",
       "<style scoped>\n",
       "    .dataframe tbody tr th:only-of-type {\n",
       "        vertical-align: middle;\n",
       "    }\n",
       "\n",
       "    .dataframe tbody tr th {\n",
       "        vertical-align: top;\n",
       "    }\n",
       "\n",
       "    .dataframe thead th {\n",
       "        text-align: right;\n",
       "    }\n",
       "</style>\n",
       "<table border=\"1\" class=\"dataframe\">\n",
       "  <thead>\n",
       "    <tr style=\"text-align: right;\">\n",
       "      <th></th>\n",
       "      <th>Date</th>\n",
       "      <th>Open</th>\n",
       "      <th>High</th>\n",
       "      <th>Low</th>\n",
       "      <th>Close</th>\n",
       "      <th>Change</th>\n",
       "      <th>Traded Volume</th>\n",
       "      <th>Turnover</th>\n",
       "      <th>Last Price of the Day</th>\n",
       "      <th>Daily Traded Units</th>\n",
       "      <th>Daily Turnover</th>\n",
       "    </tr>\n",
       "  </thead>\n",
       "  <tbody>\n",
       "    <tr>\n",
       "      <td>0</td>\n",
       "      <td>2017-12-29</td>\n",
       "      <td>51.76</td>\n",
       "      <td>51.94</td>\n",
       "      <td>51.45</td>\n",
       "      <td>51.76</td>\n",
       "      <td>NaN</td>\n",
       "      <td>34640.0</td>\n",
       "      <td>1792304.0</td>\n",
       "      <td>None</td>\n",
       "      <td>None</td>\n",
       "      <td>None</td>\n",
       "    </tr>\n",
       "    <tr>\n",
       "      <td>1</td>\n",
       "      <td>2017-12-28</td>\n",
       "      <td>51.65</td>\n",
       "      <td>51.82</td>\n",
       "      <td>51.43</td>\n",
       "      <td>51.60</td>\n",
       "      <td>NaN</td>\n",
       "      <td>40660.0</td>\n",
       "      <td>2099024.0</td>\n",
       "      <td>None</td>\n",
       "      <td>None</td>\n",
       "      <td>None</td>\n",
       "    </tr>\n",
       "    <tr>\n",
       "      <td>2</td>\n",
       "      <td>2017-12-27</td>\n",
       "      <td>51.45</td>\n",
       "      <td>51.89</td>\n",
       "      <td>50.76</td>\n",
       "      <td>51.82</td>\n",
       "      <td>NaN</td>\n",
       "      <td>57452.0</td>\n",
       "      <td>2957018.0</td>\n",
       "      <td>None</td>\n",
       "      <td>None</td>\n",
       "      <td>None</td>\n",
       "    </tr>\n",
       "    <tr>\n",
       "      <td>3</td>\n",
       "      <td>2017-12-22</td>\n",
       "      <td>51.05</td>\n",
       "      <td>51.50</td>\n",
       "      <td>50.92</td>\n",
       "      <td>51.32</td>\n",
       "      <td>NaN</td>\n",
       "      <td>71165.0</td>\n",
       "      <td>3641949.0</td>\n",
       "      <td>None</td>\n",
       "      <td>None</td>\n",
       "      <td>None</td>\n",
       "    </tr>\n",
       "    <tr>\n",
       "      <td>4</td>\n",
       "      <td>2017-12-21</td>\n",
       "      <td>51.16</td>\n",
       "      <td>51.52</td>\n",
       "      <td>50.90</td>\n",
       "      <td>51.40</td>\n",
       "      <td>NaN</td>\n",
       "      <td>120649.0</td>\n",
       "      <td>6179433.0</td>\n",
       "      <td>None</td>\n",
       "      <td>None</td>\n",
       "      <td>None</td>\n",
       "    </tr>\n",
       "  </tbody>\n",
       "</table>\n",
       "</div>"
      ],
      "text/plain": [
       "         Date   Open   High    Low  Close  Change  Traded Volume   Turnover  \\\n",
       "0  2017-12-29  51.76  51.94  51.45  51.76     NaN        34640.0  1792304.0   \n",
       "1  2017-12-28  51.65  51.82  51.43  51.60     NaN        40660.0  2099024.0   \n",
       "2  2017-12-27  51.45  51.89  50.76  51.82     NaN        57452.0  2957018.0   \n",
       "3  2017-12-22  51.05  51.50  50.92  51.32     NaN        71165.0  3641949.0   \n",
       "4  2017-12-21  51.16  51.52  50.90  51.40     NaN       120649.0  6179433.0   \n",
       "\n",
       "  Last Price of the Day Daily Traded Units Daily Turnover  \n",
       "0                  None               None           None  \n",
       "1                  None               None           None  \n",
       "2                  None               None           None  \n",
       "3                  None               None           None  \n",
       "4                  None               None           None  "
      ]
     },
     "execution_count": 88,
     "metadata": {},
     "output_type": "execute_result"
    }
   ],
   "source": [
    "df_cols = result['dataset']['column_names']\n",
    "df_rows = result['dataset']['data']\n",
    "df = pd.DataFrame(df_rows, columns=df_cols)\n",
    "df.head()"
   ]
  },
  {
   "cell_type": "markdown",
   "metadata": {},
   "source": [
    "### 3. Calculate what the highest and lowest opening prices were for the stock in this period."
   ]
  },
  {
   "cell_type": "code",
   "execution_count": 80,
   "metadata": {},
   "outputs": [
    {
     "name": "stdout",
     "output_type": "stream",
     "text": [
      "The highest opening price in 2017 was $53.11.\n"
     ]
    }
   ],
   "source": [
    "highest = df['Open'][df['Open']==df['Open'].max()]\n",
    "print('The highest opening price in 2017 was $%4.2f.'% highest)"
   ]
  },
  {
   "cell_type": "code",
   "execution_count": 79,
   "metadata": {},
   "outputs": [
    {
     "name": "stdout",
     "output_type": "stream",
     "text": [
      "The lowest opening price in 2017 was $34.00.\n"
     ]
    }
   ],
   "source": [
    "lowest = df.Open[df.Open == df.Open.min()]\n",
    "print('The lowest opening price in 2017 was $%4.2f.'% lowest)"
   ]
  },
  {
   "cell_type": "markdown",
   "metadata": {},
   "source": [
    "### 4. What was the largest change in any one day (based on High and Low price)?"
   ]
  },
  {
   "cell_type": "code",
   "execution_count": 85,
   "metadata": {},
   "outputs": [
    {
     "name": "stdout",
     "output_type": "stream",
     "text": [
      "The largest change in any one day was: $2.81 per share\n"
     ]
    }
   ],
   "source": [
    "largest_change = (df['High']-df['Low']).max()\n",
    "print('The largest change in any one day was: $%4.2f per share'% largest_change)"
   ]
  },
  {
   "cell_type": "markdown",
   "metadata": {},
   "source": [
    "### 5. What was the largest change between any two days (based on Closing Price)?"
   ]
  },
  {
   "cell_type": "code",
   "execution_count": 75,
   "metadata": {},
   "outputs": [
    {
     "name": "stdout",
     "output_type": "stream",
     "text": [
      "The largest change between any two days based on Closing price was: 2.56 per share.\n"
     ]
    }
   ],
   "source": [
    "daily_change = df.Close.diff().abs().max(skipna=True)\n",
    "print('The largest change between any two days based on Closing price was: %4.2f per share.'% daily_change)"
   ]
  },
  {
   "cell_type": "markdown",
   "metadata": {},
   "source": [
    "### 6. What was the average daily trading volume during this year?"
   ]
  },
  {
   "cell_type": "code",
   "execution_count": 73,
   "metadata": {},
   "outputs": [
    {
     "name": "stdout",
     "output_type": "stream",
     "text": [
      "The average trading volume was 89124.34 shares in 2017.\n"
     ]
    }
   ],
   "source": [
    "average_trading_volume = df['Traded Volume'].mean()\n",
    "print('The average trading volume was %8.2f shares in 2017.'% average_trading_volume)"
   ]
  },
  {
   "cell_type": "markdown",
   "metadata": {},
   "source": [
    "### 7. What was the median trading volume during this year?"
   ]
  },
  {
   "cell_type": "code",
   "execution_count": 81,
   "metadata": {},
   "outputs": [
    {
     "name": "stdout",
     "output_type": "stream",
     "text": [
      "The median trading volume was 76286.00 shares in 2017.\n"
     ]
    }
   ],
   "source": [
    "median_trading_vol = df['Traded Volume'].median()\n",
    "print('The median trading volume was %8.2f shares in 2017.'% median_trading_vol)"
   ]
  }
 ],
 "metadata": {
  "kernelspec": {
   "display_name": "Python 3",
   "language": "python",
   "name": "python3"
  },
  "language_info": {
   "codemirror_mode": {
    "name": "ipython",
    "version": 3
   },
   "file_extension": ".py",
   "mimetype": "text/x-python",
   "name": "python",
   "nbconvert_exporter": "python",
   "pygments_lexer": "ipython3",
   "version": "3.7.4"
  }
 },
 "nbformat": 4,
 "nbformat_minor": 2
}
